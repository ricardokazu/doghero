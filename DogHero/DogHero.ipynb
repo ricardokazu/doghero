{
 "cells": [
  {
   "cell_type": "markdown",
   "metadata": {},
   "source": [
    "This is the scrapy running script."
   ]
  },
  {
   "cell_type": "code",
   "execution_count": 1,
   "metadata": {},
   "outputs": [
    {
     "name": "stderr",
     "output_type": "stream",
     "text": [
      "C:\\Users\\Kazu\\Documents\\GitHub\\doghero\\DogHero\\DogHero\\items.py:9: ScrapyDeprecationWarning: Module `scrapy.contrib.loader` is deprecated, use `scrapy.loader` instead\n",
      "  from scrapy.contrib.loader import ItemLoader\n"
     ]
    }
   ],
   "source": [
    "from scrapy.crawler import CrawlerProcess\n",
    "from scrapy.utils.project import get_project_settings\n",
    "from DogHero.spiders import imovelweb"
   ]
  },
  {
   "cell_type": "code",
   "execution_count": 2,
   "metadata": {},
   "outputs": [
    {
     "name": "stderr",
     "output_type": "stream",
     "text": [
      "2018-10-27 19:11:15 [scrapy.utils.log] INFO: Scrapy 1.5.1 started (bot: DogHero)\n",
      "2018-10-27 19:11:15 [scrapy.utils.log] INFO: Versions: lxml 4.2.1.0, libxml2 2.9.8, cssselect 1.0.3, parsel 1.5.0, w3lib 1.19.0, Twisted 18.9.0, Python 3.6.5 |Anaconda, Inc.| (default, Mar 29 2018, 13:32:41) [MSC v.1900 64 bit (AMD64)], pyOpenSSL 18.0.0 (OpenSSL 1.0.2o  27 Mar 2018), cryptography 2.2.2, Platform Windows-10-10.0.17134-SP0\n"
     ]
    }
   ],
   "source": [
    "process = CrawlerProcess(get_project_settings())"
   ]
  },
  {
   "cell_type": "code",
   "execution_count": 3,
   "metadata": {},
   "outputs": [
    {
     "name": "stderr",
     "output_type": "stream",
     "text": [
      "2018-10-27 19:11:15 [scrapy.crawler] INFO: Overridden settings: {'BOT_NAME': 'DogHero', 'FEED_FORMAT': 'csv', 'FEED_URI': 'imovelweb.csv', 'NEWSPIDER_MODULE': 'DogHero.spiders', 'ROBOTSTXT_OBEY': True, 'SPIDER_MODULES': ['DogHero.spiders']}\n",
      "2018-10-27 19:11:15 [scrapy.middleware] INFO: Enabled extensions:\n",
      "['scrapy.extensions.corestats.CoreStats',\n",
      " 'scrapy.extensions.telnet.TelnetConsole',\n",
      " 'scrapy.extensions.feedexport.FeedExporter',\n",
      " 'scrapy.extensions.logstats.LogStats']\n",
      "2018-10-27 19:11:15 [scrapy.middleware] INFO: Enabled downloader middlewares:\n",
      "['scrapy.downloadermiddlewares.robotstxt.RobotsTxtMiddleware',\n",
      " 'scrapy.downloadermiddlewares.httpauth.HttpAuthMiddleware',\n",
      " 'scrapy.downloadermiddlewares.downloadtimeout.DownloadTimeoutMiddleware',\n",
      " 'scrapy.downloadermiddlewares.defaultheaders.DefaultHeadersMiddleware',\n",
      " 'scrapy.downloadermiddlewares.useragent.UserAgentMiddleware',\n",
      " 'scrapy.downloadermiddlewares.retry.RetryMiddleware',\n",
      " 'scrapy.downloadermiddlewares.redirect.MetaRefreshMiddleware',\n",
      " 'scrapy.downloadermiddlewares.httpcompression.HttpCompressionMiddleware',\n",
      " 'scrapy.downloadermiddlewares.redirect.RedirectMiddleware',\n",
      " 'scrapy.downloadermiddlewares.cookies.CookiesMiddleware',\n",
      " 'scrapy.downloadermiddlewares.httpproxy.HttpProxyMiddleware',\n",
      " 'scrapy.downloadermiddlewares.stats.DownloaderStats']\n",
      "2018-10-27 19:11:15 [scrapy.middleware] INFO: Enabled spider middlewares:\n",
      "['scrapy.spidermiddlewares.httperror.HttpErrorMiddleware',\n",
      " 'scrapy.spidermiddlewares.offsite.OffsiteMiddleware',\n",
      " 'scrapy.spidermiddlewares.referer.RefererMiddleware',\n",
      " 'scrapy.spidermiddlewares.urllength.UrlLengthMiddleware',\n",
      " 'scrapy.spidermiddlewares.depth.DepthMiddleware']\n",
      "2018-10-27 19:11:15 [scrapy.middleware] INFO: Enabled item pipelines:\n",
      "[]\n",
      "2018-10-27 19:11:15 [scrapy.core.engine] INFO: Spider opened\n",
      "2018-10-27 19:11:15 [scrapy.extensions.logstats] INFO: Crawled 0 pages (at 0 pages/min), scraped 0 items (at 0 items/min)\n",
      "2018-10-27 19:11:15 [scrapy.extensions.telnet] DEBUG: Telnet console listening on 127.0.0.1:6023\n",
      "2018-10-27 19:11:16 [scrapy.core.engine] DEBUG: Crawled (200) <GET https://www.imovelweb.com.br/robots.txt> (referer: None)\n",
      "2018-10-27 19:11:20 [scrapy.core.engine] DEBUG: Crawled (200) <GET https://www.imovelweb.com.br/apartamentos-padrao-venda.html> (referer: None)\n",
      "2018-10-27 19:11:20 [scrapy.core.scraper] DEBUG: Scraped from <200 https://www.imovelweb.com.br/apartamentos-padrao-venda.html>\n",
      "{'features': '202 m² Útil 3 Quartos 4 Banheiros',\n",
      " 'location_city': 'Alphaville, Santana de Parnaíba',\n",
      " 'location_street': 'Alameda America, 365',\n",
      " 'title': 'Vendo apartamento de 202 metros com 3 suítes  4 vagas Tambore '\n",
      "          'Alphaville'}\n",
      "2018-10-27 19:11:20 [scrapy.core.scraper] DEBUG: Scraped from <200 https://www.imovelweb.com.br/apartamentos-padrao-venda.html>\n",
      "{'features': '81 m² Útil 3 Quartos 2 Banheiros',\n",
      " 'location_city': 'Portão, Curitiba',\n",
      " 'location_street': 'Rua Arthur Mohr 335',\n",
      " 'title': 'Ed. Bonne Vie, Portão - REVENDA'}\n",
      "2018-10-27 19:11:20 [scrapy.core.scraper] DEBUG: Scraped from <200 https://www.imovelweb.com.br/apartamentos-padrao-venda.html>\n",
      "{'features': '70 m² Útil 3 Quartos',\n",
      " 'location_city': 'Aguas Claras Norte, Águas Claras',\n",
      " 'location_street': 'Rua 18 Norte 0',\n",
      " 'title': 'Águas Claras, andar alto, apartamento 3 quartos, 1 suíte, nascente, '\n",
      "          'próximo à Estação Arniqueiras'}\n",
      "2018-10-27 19:11:20 [scrapy.core.scraper] DEBUG: Scraped from <200 https://www.imovelweb.com.br/apartamentos-padrao-venda.html>\n",
      "{'features': '137 m²',\n",
      " 'location_city': 'Brooklin, São Paulo',\n",
      " 'location_street': 'Rua das Margaridas, 133',\n",
      " 'title': 'Quartier Brooklin'}\n",
      "2018-10-27 19:11:20 [scrapy.core.scraper] DEBUG: Scraped from <200 https://www.imovelweb.com.br/apartamentos-padrao-venda.html>\n",
      "{'features': '81 m² Útil 3 Quartos 3 Banheiros',\n",
      " 'location_city': 'Alphaville Empresarial, Barueri',\n",
      " 'location_street': 'Av Andrômeda 2000',\n",
      " 'title': 'Apartamento Novo em Alphaville. Terraço Gourmet!! Excelente '\n",
      "          'Localização!!'}\n",
      "2018-10-27 19:11:20 [scrapy.core.scraper] DEBUG: Scraped from <200 https://www.imovelweb.com.br/apartamentos-padrao-venda.html>\n",
      "{'features': '202 m² Útil 3 Quartos 6 Banheiros',\n",
      " 'location_city': 'Tatuapé, São Paulo',\n",
      " 'location_street': 'Rua Maria Otilia 133',\n",
      " 'title': 'Apartamento residencial à venda, Tatuapé, São Paulo - AP44172.'}\n",
      "2018-10-27 19:11:20 [scrapy.core.scraper] DEBUG: Scraped from <200 https://www.imovelweb.com.br/apartamentos-padrao-venda.html>\n",
      "{'features': '98 m² Útil 3 Quartos',\n",
      " 'location_city': 'Vila Izabel, Curitiba',\n",
      " 'location_street': 'Rua Coronel Ottoni Maciel 781',\n",
      " 'title': 'Apartamento à venda - na Vila Izabel'}\n",
      "2018-10-27 19:11:20 [scrapy.core.scraper] DEBUG: Scraped from <200 https://www.imovelweb.com.br/apartamentos-padrao-venda.html>\n",
      "{'features': '104 unidades 1 Quartos 73 m²',\n",
      " 'location_city': 'Pinheiros, São Paulo',\n",
      " 'location_street': 'Rua Gilberto Sabino, 65',\n",
      " 'title': 'Retrato Pinheiros'}\n",
      "2018-10-27 19:11:20 [scrapy.core.scraper] DEBUG: Scraped from <200 https://www.imovelweb.com.br/apartamentos-padrao-venda.html>\n",
      "{'features': '65 m² Útil 2 Quartos 2 Banheiros',\n",
      " 'location_city': 'Vila Rosália, Guarulhos',\n",
      " 'location_street': 'Rua Doutor Solon Fernandes 729',\n",
      " 'title': 'Apartamento Residencial à Venda, Vila Rosália, Guarulhos.'}\n",
      "2018-10-27 19:11:20 [scrapy.core.scraper] DEBUG: Scraped from <200 https://www.imovelweb.com.br/apartamentos-padrao-venda.html>\n",
      "{'features': '284 m² Útil 4 Quartos 3 Banheiros',\n",
      " 'location_city': 'Meia Praia, Itapema',\n",
      " 'location_street': 'Av Nereu Ramos  4142',\n",
      " 'title': 'Oportunidade com piscina privativa bem localizado em Meia Praia '\n",
      "          '(LAZ-893).'}\n",
      "2018-10-27 19:11:20 [scrapy.core.scraper] DEBUG: Scraped from <200 https://www.imovelweb.com.br/apartamentos-padrao-venda.html>\n",
      "{'features': '192 m² Útil 2 Quartos 4 Banheiros',\n",
      " 'location_city': 'Vila Nova Conceição, São Paulo',\n",
      " 'location_street': 'R MARCOS LOPES',\n",
      " 'title': 'APARTAMENTO SOFISTICADO NA VILA NOVA CONCEIÇÃO'}\n",
      "2018-10-27 19:11:20 [scrapy.core.scraper] DEBUG: Scraped from <200 https://www.imovelweb.com.br/apartamentos-padrao-venda.html>\n",
      "{'features': '2 Quartos 74 m²',\n",
      " 'location_city': 'Aclimação, São Paulo',\n",
      " 'location_street': 'Rua Nilo, 170',\n",
      " 'title': 'Retrato Paulista'}\n",
      "2018-10-27 19:11:20 [scrapy.core.scraper] DEBUG: Scraped from <200 https://www.imovelweb.com.br/apartamentos-padrao-venda.html>\n",
      "{'features': '95 m² Útil 3 Quartos 2 Banheiros',\n",
      " 'location_city': 'Mossunguê, Curitiba',\n",
      " 'location_street': 'Rua Francisco Juglair',\n",
      " 'title': 'APARATAMENTO ECOVILLE - 3 QUARTOS - SUÍTE - FACE OESTE'}\n",
      "2018-10-27 19:11:20 [scrapy.core.scraper] DEBUG: Scraped from <200 https://www.imovelweb.com.br/apartamentos-padrao-venda.html>\n",
      "{'features': '70 m² Útil 2 Quartos 2 Banheiros',\n",
      " 'location_city': 'Vila Leopoldina, São Paulo',\n",
      " 'location_street': 'RUA BRENTANO 340 ap 52',\n",
      " 'title': 'APARTAMENTO NO CORAÇÃO DA VILA LEOPOLDINA - PRONTO PARA MORAR!'}\n",
      "2018-10-27 19:11:20 [scrapy.core.scraper] DEBUG: Scraped from <200 https://www.imovelweb.com.br/apartamentos-padrao-venda.html>\n",
      "{'features': '258 m² Útil 3 Quartos 5 Banheiros',\n",
      " 'location_city': 'Brooklin, São Paulo',\n",
      " 'location_street': 'RUA MINISTRO LUIZ GALLOTTI 470',\n",
      " 'title': 'Apartamento para venda possui 258 metros com 3 suítes - Brooklin'}\n",
      "2018-10-27 19:11:20 [scrapy.core.scraper] DEBUG: Scraped from <200 https://www.imovelweb.com.br/apartamentos-padrao-venda.html>\n",
      "{'features': '3 Quartos 157 m²',\n",
      " 'location_city': 'Mooca, São Paulo',\n",
      " 'location_street': 'Rua Tacomaré, 196',\n",
      " 'title': 'Veríssimo Mooca'}\n",
      "2018-10-27 19:11:20 [scrapy.core.scraper] DEBUG: Scraped from <200 https://www.imovelweb.com.br/apartamentos-padrao-venda.html>\n",
      "{'features': '79 m² Útil 3 Quartos 2 Banheiros',\n",
      " 'location_city': 'Ecoville, Curitiba',\n",
      " 'location_street': 'Rua Walenty Golas 370',\n",
      " 'title': 'Apartamento - AXIS 21'}\n",
      "2018-10-27 19:11:20 [scrapy.core.scraper] DEBUG: Scraped from <200 https://www.imovelweb.com.br/apartamentos-padrao-venda.html>\n",
      "{'features': '69 m² Útil 2 Quartos 1 Banheiro',\n",
      " 'location_city': 'Boa Vista, Curitiba',\n",
      " 'location_street': 'Avenida Paraná',\n",
      " 'title': 'MORE NO BOA VISTA  . QUALIDADE VANGUARD LA VISTA'}\n",
      "2018-10-27 19:11:20 [scrapy.core.scraper] DEBUG: Scraped from <200 https://www.imovelweb.com.br/apartamentos-padrao-venda.html>\n",
      "{'features': '130 m² Útil 3 Quartos 2 Banheiros',\n",
      " 'location_city': 'Higienópolis, São Paulo',\n",
      " 'location_street': 'R PIAUÍ',\n",
      " 'title': 'APARTAMENTO SUPER CHARMOSO PARA VENDA.'}\n"
     ]
    },
    {
     "name": "stderr",
     "output_type": "stream",
     "text": [
      "2018-10-27 19:11:20 [scrapy.core.scraper] DEBUG: Scraped from <200 https://www.imovelweb.com.br/apartamentos-padrao-venda.html>\n",
      "{'features': '4 Quartos 268 m²',\n",
      " 'location_city': 'Anhangabaú, Jundiaí',\n",
      " 'location_street': 'Avenida 9 de Julho,3311',\n",
      " 'title': 'Unique Alta Vista'}\n",
      "2018-10-27 19:11:20 [scrapy.core.engine] INFO: Closing spider (finished)\n",
      "2018-10-27 19:11:20 [scrapy.extensions.feedexport] INFO: Stored csv feed (20 items) in: imovelweb.csv\n",
      "2018-10-27 19:11:20 [scrapy.statscollectors] INFO: Dumping Scrapy stats:\n",
      "{'downloader/request_bytes': 540,\n",
      " 'downloader/request_count': 2,\n",
      " 'downloader/request_method_count/GET': 2,\n",
      " 'downloader/response_bytes': 81836,\n",
      " 'downloader/response_count': 2,\n",
      " 'downloader/response_status_count/200': 2,\n",
      " 'finish_reason': 'finished',\n",
      " 'finish_time': datetime.datetime(2018, 10, 27, 22, 11, 20, 594698),\n",
      " 'item_scraped_count': 20,\n",
      " 'log_count/DEBUG': 23,\n",
      " 'log_count/INFO': 8,\n",
      " 'response_received_count': 2,\n",
      " 'scheduler/dequeued': 1,\n",
      " 'scheduler/dequeued/memory': 1,\n",
      " 'scheduler/enqueued': 1,\n",
      " 'scheduler/enqueued/memory': 1,\n",
      " 'start_time': datetime.datetime(2018, 10, 27, 22, 11, 15, 450809)}\n",
      "2018-10-27 19:11:20 [scrapy.core.engine] INFO: Spider closed (finished)\n"
     ]
    }
   ],
   "source": [
    "process.crawl('imovelweb')\n",
    "process.start() # the script will block here until the crawling is finished"
   ]
  },
  {
   "cell_type": "code",
   "execution_count": 4,
   "metadata": {},
   "outputs": [
    {
     "name": "stderr",
     "output_type": "stream",
     "text": [
      "2018-10-27 19:11:27 [matplotlib] DEBUG: $HOME=C:\\Users\\Kazu\n",
      "2018-10-27 19:11:27 [matplotlib] DEBUG: matplotlib data path C:\\Users\\Kazu\\Anaconda3\\lib\\site-packages\\matplotlib\\mpl-data\n",
      "2018-10-27 19:11:27 [matplotlib] DEBUG: loaded rc file C:\\Users\\Kazu\\Anaconda3\\lib\\site-packages\\matplotlib\\mpl-data\\matplotlibrc\n",
      "2018-10-27 19:11:27 [matplotlib] DEBUG: matplotlib version 2.2.2\n",
      "2018-10-27 19:11:27 [matplotlib] DEBUG: interactive is False\n",
      "2018-10-27 19:11:27 [matplotlib] DEBUG: platform is win32\n",
      "2018-10-27 19:11:27 [matplotlib] DEBUG: loaded modules: ['builtins', 'sys', '_frozen_importlib', '_imp', '_warnings', '_thread', '_weakref', '_frozen_importlib_external', '_io', 'marshal', 'nt', 'winreg', 'zipimport', 'encodings', 'codecs', '_codecs', 'encodings.aliases', 'encodings.utf_8', '_signal', '__main__', 'encodings.latin_1', 'io', 'abc', '_weakrefset', '_bootlocale', '_locale', 'encodings.cp1252', 'site', 'os', 'errno', 'stat', '_stat', 'ntpath', 'genericpath', 'os.path', '_collections_abc', '_sitebuiltins', 'sysconfig', 'types', 'functools', '_functools', 'collections', 'operator', '_operator', 'keyword', 'heapq', '_heapq', 'itertools', 'reprlib', '_collections', 'weakref', 'collections.abc', 'importlib', 'importlib._bootstrap', 'importlib._bootstrap_external', 'warnings', 'importlib.util', 'importlib.abc', 'importlib.machinery', 'contextlib', 'mpl_toolkits', 'sphinxcontrib', 'zope', 'runpy', 'pkgutil', 'ipykernel', 'ipykernel._version', 'ipykernel.connect', '__future__', 'json', 'json.decoder', 're', 'enum', 'sre_compile', '_sre', 'sre_parse', 'sre_constants', 'copyreg', 'json.scanner', '_json', 'json.encoder', 'subprocess', 'time', 'signal', 'threading', 'traceback', 'linecache', 'tokenize', 'token', 'msvcrt', '_winapi', 'IPython', 'IPython.core', 'IPython.core.getipython', 'IPython.core.release', 'IPython.core.application', 'atexit', 'copy', 'glob', 'fnmatch', 'posixpath', 'logging', 'string', '_string', 'shutil', 'zlib', 'bz2', '_compression', '_bz2', 'lzma', '_lzma', 'traitlets', 'traitlets.traitlets', 'inspect', 'ast', '_ast', 'dis', 'opcode', '_opcode', 'six', 'struct', '_struct', 'traitlets.utils', 'traitlets.utils.getargspec', 'traitlets.utils.importstring', 'ipython_genutils', 'ipython_genutils._version', 'ipython_genutils.py3compat', 'ipython_genutils.encoding', 'locale', 'platform', 'traitlets.utils.sentinel', 'traitlets.utils.bunch', 'traitlets._version', 'traitlets.config', 'traitlets.config.application', 'decorator', 'traitlets.config.configurable', 'traitlets.config.loader', 'argparse', 'textwrap', 'gettext', 'ipython_genutils.path', 'random', 'math', 'hashlib', '_hashlib', '_blake2', '_sha3', 'bisect', '_bisect', '_random', 'ipython_genutils.text', 'ipython_genutils.importstring', 'IPython.core.crashhandler', 'pprint', 'IPython.core.ultratb', 'pydoc', 'urllib', 'urllib.parse', 'IPython.core.debugger', 'bdb', 'IPython.utils', 'IPython.utils.PyColorize', 'IPython.utils.coloransi', 'IPython.utils.ipstruct', 'IPython.utils.colorable', 'pygments', 'pygments.util', 'IPython.utils.py3compat', 'IPython.utils.encoding', 'IPython.core.excolors', 'IPython.testing', 'IPython.testing.skipdoctest', 'pdb', 'cmd', 'code', 'codeop', 'IPython.core.display_trap', 'IPython.utils.openpy', 'IPython.utils.path', 'IPython.utils.process', 'IPython.utils._process_win32', 'ctypes', '_ctypes', 'ctypes._endian', 'ctypes.wintypes', 'IPython.utils._process_common', 'shlex', 'IPython.utils.decorators', 'IPython.utils.data', 'IPython.utils.terminal', 'IPython.utils.sysinfo', 'IPython.utils._sysinfo', 'IPython.core.profiledir', 'IPython.paths', 'tempfile', 'IPython.utils.importstring', 'IPython.terminal', 'IPython.terminal.embed', 'IPython.core.compilerop', 'IPython.core.magic_arguments', 'IPython.core.error', 'IPython.utils.text', 'pathlib', 'IPython.core.magic', 'getopt', 'IPython.core.oinspect', 'IPython.core.page', 'IPython.core.display', 'binascii', 'mimetypes', 'IPython.lib', 'IPython.lib.security', 'getpass', 'IPython.lib.pretty', 'datetime', '_datetime', 'IPython.utils.signatures', 'IPython.utils.dir2', 'IPython.utils.wildcard', 'pygments.lexers', 'pygments.lexers._mapping', 'pygments.modeline', 'pygments.plugin', 'pygments.lexers.python', 'pygments.lexer', 'pygments.filter', 'pygments.filters', 'pygments.token', 'pygments.regexopt', 'pygments.unistring', 'pygments.formatters', 'pygments.formatters._mapping', 'pygments.formatters.html', 'pygments.formatter', 'pygments.styles', 'IPython.core.inputsplitter', 'IPython.core.inputtransformer', 'IPython.core.splitinput', 'IPython.utils.tokenize2', 'IPython.core.interactiveshell', 'pickleshare', 'pickle', '_compat_pickle', '_pickle', 'IPython.core.prefilter', 'IPython.core.autocall', 'IPython.core.macro', 'IPython.core.alias', 'IPython.core.builtin_trap', 'IPython.core.events', 'backcall', 'backcall.backcall', 'IPython.core.displayhook', 'IPython.core.displaypub', 'IPython.core.extensions', 'IPython.core.formatters', 'IPython.utils.sentinel', 'IPython.core.history', 'sqlite3', 'sqlite3.dbapi2', '_sqlite3', 'IPython.core.logger', 'IPython.core.payload', 'IPython.core.usage', 'IPython.display', 'IPython.lib.display', 'html', 'html.entities', 'IPython.utils.io', 'IPython.utils.capture', 'IPython.utils.strdispatch', 'IPython.core.hooks', 'IPython.utils.syspathcontext', 'IPython.utils.tempdir', 'typing', 'typing.io', 'typing.re', 'IPython.utils.contexts', 'IPython.terminal.interactiveshell', 'prompt_toolkit', 'prompt_toolkit.interface', 'prompt_toolkit.application', 'prompt_toolkit.buffer', 'prompt_toolkit.auto_suggest', 'prompt_toolkit.filters', 'prompt_toolkit.filters.base', 'prompt_toolkit.utils', 'wcwidth', 'wcwidth.wcwidth', 'wcwidth.table_wide', 'wcwidth.table_zero', 'six.moves', 'prompt_toolkit.filters.cli', 'prompt_toolkit.enums', 'prompt_toolkit.key_binding', 'prompt_toolkit.key_binding.vi_state', 'prompt_toolkit.cache', 'prompt_toolkit.filters.types', 'prompt_toolkit.filters.utils', 'prompt_toolkit.clipboard', 'prompt_toolkit.clipboard.base', 'prompt_toolkit.selection', 'prompt_toolkit.clipboard.in_memory', 'prompt_toolkit.completion', 'prompt_toolkit.document', 'prompt_toolkit.history', 'prompt_toolkit.search_state', 'prompt_toolkit.validation', 'prompt_toolkit.buffer_mapping', 'prompt_toolkit.key_binding.bindings', 'prompt_toolkit.key_binding.bindings.basic', 'prompt_toolkit.keys', 'prompt_toolkit.layout', 'prompt_toolkit.layout.containers', 'prompt_toolkit.layout.controls', 'prompt_toolkit.mouse_events', 'prompt_toolkit.token', 'prompt_toolkit.layout.lexers', 'prompt_toolkit.layout.utils', 'prompt_toolkit.layout.processors', 'prompt_toolkit.reactive', 'prompt_toolkit.layout.screen', 'prompt_toolkit.layout.dimension', 'prompt_toolkit.layout.margins', 'prompt_toolkit.renderer', 'prompt_toolkit.layout.mouse_handlers', 'prompt_toolkit.output', 'prompt_toolkit.styles', 'prompt_toolkit.styles.base', 'prompt_toolkit.styles.defaults', 'prompt_toolkit.styles.from_dict', 'prompt_toolkit.styles.utils', 'prompt_toolkit.styles.from_pygments', 'pygments.style', 'pygments.styles.default', 'prompt_toolkit.key_binding.bindings.named_commands', 'prompt_toolkit.key_binding.bindings.completion', 'prompt_toolkit.key_binding.registry', 'prompt_toolkit.key_binding.input_processor', 'prompt_toolkit.key_binding.bindings.emacs', 'prompt_toolkit.key_binding.bindings.scroll', 'prompt_toolkit.key_binding.bindings.vi', 'prompt_toolkit.key_binding.digraphs', 'prompt_toolkit.key_binding.defaults', 'prompt_toolkit.eventloop', 'prompt_toolkit.eventloop.base', 'prompt_toolkit.eventloop.callbacks', 'prompt_toolkit.input', 'prompt_toolkit.terminal', 'prompt_toolkit.terminal.win32_input', 'prompt_toolkit.win32_types', 'prompt_toolkit.shortcuts', 'prompt_toolkit.layout.menus', 'prompt_toolkit.layout.prompt', 'prompt_toolkit.layout.toolbars', 'prompt_toolkit.terminal.win32_output', 'prompt_toolkit.terminal.conemu_output', 'prompt_toolkit.terminal.vt100_output', 'array', 'prompt_toolkit.key_binding.manager', 'IPython.terminal.debugger', 'IPython.core.completer', 'unicodedata', 'IPython.core.latex_symbols', 'IPython.utils.generics', 'simplegeneric', 'jedi', 'jedi.api', 'parso', 'parso.parser', 'parso.tree', 'parso._compatibility', 'parso.pgen2', 'parso.pgen2.parse', 'parso.python', 'parso.python.tokenize', 'parso.python.token', 'parso.utils', 'parso.grammar', 'parso.pgen2.pgen', 'parso.pgen2.grammar', 'parso.python.diff', 'difflib', 'parso.python.parser', 'parso.python.tree', 'parso.python.prefix', 'parso.cache', 'gc', 'socket', '_socket', 'selectors', 'select', 'parso.python.errors', 'parso.normalizer', 'parso.python.pep8', 'jedi._compatibility', 'queue', 'jedi.parser_utils', 'jedi.debug', 'jedi.settings', 'jedi.cache', 'jedi.api.classes', 'jedi.evaluate', 'jedi.evaluate.utils', 'jedi.evaluate.imports', 'jedi.evaluate.sys_path', 'jedi.evaluate.cache', 'jedi.evaluate.base_context', 'jedi.common', 'jedi.common.context', 'jedi.evaluate.helpers', 'jedi.evaluate.compiled', 'jedi.evaluate.compiled.context', 'jedi.evaluate.filters', 'jedi.evaluate.flow_analysis', 'jedi.evaluate.recursion', 'jedi.evaluate.lazy_context', 'jedi.evaluate.compiled.access', 'jedi.evaluate.compiled.getattr_static', 'jedi.evaluate.compiled.fake', 'jedi.common.utils', 'jedi.evaluate.analysis', 'jedi.evaluate.context', 'jedi.evaluate.context.module', 'jedi.evaluate.context.klass', 'jedi.evaluate.context.function', 'jedi.evaluate.docstrings', 'jedi.evaluate.pep0484', 'jedi.evaluate.arguments', 'jedi.evaluate.context.iterable', 'jedi.evaluate.param', 'jedi.evaluate.context.asynchronous', 'jedi.evaluate.parser_cache', 'jedi.evaluate.context.instance', 'jedi.evaluate.syntax_tree', 'jedi.evaluate.finder', 'jedi.api.keywords', 'pydoc_data', 'pydoc_data.topics', 'jedi.api.interpreter', 'jedi.evaluate.compiled.mixed', 'jedi.api.helpers', 'jedi.api.completion', 'jedi.api.environment', 'filecmp', 'distutils', 'distutils.spawn', 'distutils.errors', 'distutils.debug', 'distutils.log', 'jedi.evaluate.compiled.subprocess', 'jedi.evaluate.compiled.subprocess.functions', 'jedi.api.exceptions', 'jedi.api.project', 'jedi.evaluate.usages', 'IPython.terminal.ptutils', 'IPython.terminal.shortcuts', 'IPython.lib.clipboard', 'IPython.terminal.magics', 'IPython.terminal.pt_inputhooks', 'IPython.terminal.prompts', 'IPython.terminal.ipapp', 'IPython.core.magics', 'IPython.core.magics.auto', 'IPython.core.magics.basic', 'IPython.core.magics.code', 'IPython.core.magics.config', 'IPython.core.magics.display', 'IPython.core.magics.execution', 'timeit', 'cProfile', '_lsprof', 'profile', 'optparse', 'pstats', 'IPython.utils.module_paths', 'imp', 'IPython.utils.timing', 'IPython.core.magics.extension', 'IPython.core.magics.history', 'IPython.core.magics.logging', 'IPython.core.magics.namespace', 'IPython.core.magics.osm', 'IPython.core.magics.pylab', 'IPython.core.pylabtools', 'IPython.core.magics.script', 'IPython.lib.backgroundjobs', 'IPython.core.shellapp', 'IPython.extensions', 'IPython.extensions.storemagic', 'IPython.utils.frame', 'jupyter_client', 'jupyter_client._version', 'jupyter_client.connect', 'zmq', 'zmq.backend', 'zmq.backend.select', 'zmq.backend.cython', 'cython_runtime', 'zmq.backend.cython.constants', '_cython_0_27_3', 'zmq.backend.cython.error', 'zmq.utils', 'zmq.utils.strtypes', 'zmq.backend.cython.message', 'zmq.error', 'zmq.backend.cython.context', 'zmq.backend.cython.socket', 'zmq.backend.cython.utils', 'zmq.backend.cython._poll', 'zmq.backend.cython._version', 'zmq.backend.cython._device', 'zmq.sugar', 'zmq.sugar.constants', 'zmq.utils.constant_names', 'zmq.sugar.context', 'zmq.sugar.attrsettr', 'zmq.sugar.socket', 'zmq.sugar.poll', 'zmq.sugar.frame', 'zmq.sugar.tracker', 'zmq.sugar.version', 'zmq.sugar.stopwatch', 'jupyter_client.localinterfaces', 'jupyter_core', 'jupyter_core.version', 'jupyter_core.paths', 'jupyter_client.launcher', 'traitlets.log', 'jupyter_client.client', 'jupyter_client.channels', 'jupyter_client.channelsabc', 'jupyter_client.clientabc', 'jupyter_client.manager', 'jupyter_client.kernelspec', 'jupyter_client.managerabc', 'jupyter_client.blocking', 'jupyter_client.blocking.client', 'jupyter_client.blocking.channels', 'jupyter_client.multikernelmanager', 'uuid', 'ctypes.util', 'ipykernel.kernelapp', 'tornado', 'tornado.ioloop', 'numbers', 'tornado.concurrent', 'tornado.log', 'logging.handlers', 'tornado.escape', 'tornado.util', 'tornado.speedups', 'colorama', 'colorama.initialise', 'colorama.ansitowin32', 'colorama.ansi', 'colorama.winterm', 'colorama.win32', 'tornado.stack_context', 'concurrent', 'concurrent.futures', 'concurrent.futures._base', 'concurrent.futures.process', 'multiprocessing', 'multiprocessing.context', 'multiprocessing.process', 'multiprocessing.reduction', '__mp_main__', 'multiprocessing.connection', '_multiprocessing', 'multiprocessing.util', 'concurrent.futures.thread', 'asyncio', '_overlapped', 'asyncio.base_events', 'asyncio.compat', 'asyncio.coroutines', 'asyncio.constants', 'asyncio.events', 'asyncio.base_futures', 'asyncio.log', 'asyncio.futures', 'asyncio.base_tasks', '_asyncio', 'asyncio.tasks', 'asyncio.locks', 'asyncio.protocols', 'asyncio.queues', 'asyncio.streams', 'asyncio.subprocess', 'asyncio.transports', 'asyncio.windows_events', 'asyncio.base_subprocess', 'asyncio.proactor_events', 'asyncio.sslproto', 'ssl', 'ipaddress', '_ssl', 'base64', 'asyncio.selector_events', 'asyncio.windows_utils', 'tornado.platform', 'tornado.platform.auto', 'tornado.platform.common', 'tornado.platform.interface', 'tornado.platform.windows', 'zmq.eventloop', 'zmq.eventloop.ioloop', 'tornado.platform.asyncio', 'tornado.gen', 'zmq.eventloop.zmqstream', 'zmq.utils.jsonapi', 'ipykernel.iostream', 'jupyter_client.session', 'hmac', 'jupyter_client.jsonutil', 'dateutil', 'dateutil._version', 'dateutil.parser', 'dateutil.parser._parser', 'calendar', 'decimal', '_decimal', 'dateutil.relativedelta', 'dateutil._common', 'dateutil.tz', 'dateutil.tz.tz', 'dateutil.tz._common', 'dateutil.tz._factories', 'dateutil.tz.win', 'dateutil.parser.isoparser', '_strptime', 'jupyter_client.adapter', 'ipykernel.heartbeat', 'ipykernel.ipkernel', 'IPython.utils.tokenutil', 'ipykernel.comm', 'ipykernel.comm.manager', 'ipykernel.comm.comm', 'ipykernel.kernelbase', 'ipykernel.jsonutil', 'ipykernel.zmqshell', 'IPython.core.payloadpage', 'ipykernel.displayhook', 'ipykernel.parentpoller', 'encodings.idna', 'stringprep', 'faulthandler', 'ipykernel.datapub', 'ipykernel.serialize', 'ipykernel.pickleutil', 'ipykernel.codeutil', 'IPython.core.completerlib', 'storemagic', 'ipywidgets', 'ipywidgets._version', 'ipywidgets.widgets', 'ipywidgets.widgets.widget', 'ipywidgets.widgets.domwidget', 'ipywidgets.widgets.trait_types', 'ipywidgets.widgets.widget_layout', 'ipywidgets.widgets.widget_style', 'ipywidgets.widgets.valuewidget', 'ipywidgets.widgets.widget_core', 'ipywidgets.widgets.widget_bool', 'ipywidgets.widgets.widget_description', 'ipywidgets.widgets.widget_button', 'ipywidgets.widgets.widget_box', 'ipywidgets.widgets.docutils', 'ipywidgets.widgets.widget_float', 'ipywidgets.widgets.widget_int', 'ipywidgets.widgets.widget_image', 'ipywidgets.widgets.widget_color', 'ipywidgets.widgets.widget_date', 'ipywidgets.widgets.widget_output', 'ipywidgets.widgets.widget_selection', 'ipywidgets.widgets.widget_selectioncontainer', 'ipywidgets.widgets.widget_string', 'ipywidgets.widgets.widget_controller', 'ipywidgets.widgets.interaction', 'ipywidgets.widgets.widget_link', 'scrapy', 'scrapy._monkeypatches', 'twisted', 'twisted._version', 'incremental', 'incremental._version', 'twisted.persisted', 'twisted.persisted.styles', 'twisted.python', 'twisted.python.compat', 'http', 'http.cookiejar', 'urllib.request', 'email', 'http.client', 'email.parser', 'email.feedparser', 'email.errors', 'email._policybase', 'email.header', 'email.quoprimime', 'email.base64mime', 'email.charset', 'email.encoders', 'quopri', 'email.utils', 'email._parseaddr', 'email.message', 'uu', 'email._encoded_words', 'email.iterators', 'urllib.error', 'urllib.response', 'nturl2path', 'twisted.python.deprecate', 'twisted.python.versions', 'twisted.python.log', 'zope.interface', 'zope.interface.interface', 'zope.interface.exceptions', 'zope.interface.ro', 'zope.interface._zope_interface_coptimizations', 'zope.interface.declarations', 'zope.interface.advice', 'zope.interface._compat', 'zope.interface.interfaces', 'twisted.python.context', 'twisted.python._oldstyle', 'twisted.python.reflect', 'twisted.python.util', 'twisted.python.failure', 'twisted.python.threadable', 'twisted.logger', 'twisted.logger._levels', 'constantly', 'constantly._constants', 'constantly._version', 'twisted.logger._flatten', 'twisted.logger._format', 'twisted.python._tzhelper', 'twisted.logger._logger', 'twisted.logger._global', 'twisted.logger._buffer', 'twisted.logger._observer', 'twisted.logger._filter', 'twisted.logger._io', 'twisted.logger._file', 'twisted.logger._stdlib', 'twisted.logger._legacy', 'twisted.logger._json', 'scrapy.spiders', 'scrapy.signals', 'scrapy.http', 'scrapy.http.headers', 'w3lib', 'w3lib.http', 'scrapy.utils', 'scrapy.utils.datatypes', 'scrapy.exceptions', 'scrapy.utils.python', 'scrapy.utils.decorators', 'twisted.internet', 'twisted.internet.defer', 'attr', 'attr.converters', 'attr.exceptions', 'attr.filters', 'attr._compat', 'attr._make', 'attr._config', 'attr.validators', 'attr._funcs', 'twisted.python.lockfile', 'twisted.python.runtime', 'win32api', 'pywintypes', '_win32sysloader', 'twisted.internet.threads', 'scrapy.http.request', 'w3lib.url', 'six.moves.urllib', 'six.moves.urllib.parse', 'six.moves.urllib.request', 'w3lib.util', 'scrapy.utils.trackref', 'scrapy.utils.url', 'scrapy.http.common', 'scrapy.http.request.form', 'lxml', 'lxml.html', '_cython_0_28_1', 'lxml.etree', 'lxml._elementpath', 'gzip', 'lxml.html.defs', 'lxml.html._setmixin', 'parsel', 'parsel.selector', 'parsel.utils', 'w3lib.html', 'parsel.csstranslator', 'cssselect', 'cssselect.parser', 'cssselect.xpath', 'parsel.xpathfuncs', 'scrapy.utils.response', 'webbrowser', 'twisted.web', 'twisted.web.http', 'cgi', 'twisted.python.components', 'zope.interface.adapter', 'twisted.internet.interfaces', 'twisted.internet.protocol', 'twisted.internet.error', 'twisted.internet.address', 'twisted.python.filepath', 'twisted.python.win32', 'twisted.internet._producer_helpers', 'twisted.internet.task', 'twisted.internet.base', 'twisted.internet.fdesc', 'twisted.internet.main', 'twisted.internet.abstract', 'twisted.internet._resolver', 'twisted.internet._idna', 'twisted.protocols', 'twisted.protocols.policies', 'twisted.protocols.basic', 'twisted.web.iweb', 'twisted.cred', 'twisted.cred.credentials', 'twisted.python.randbytes', 'twisted.cred._digest', 'twisted.cred.error', 'twisted.web.http_headers', 'twisted.web._responses', 'scrapy.http.request.rpc', 'xmlrpc', 'xmlrpc.client', 'xml', 'xml.parsers', 'xml.parsers.expat', 'pyexpat.errors', 'pyexpat.model', 'pyexpat', 'xml.parsers.expat.model', 'xml.parsers.expat.errors', 'scrapy.http.response', 'scrapy.link', 'scrapy.http.response.html', 'scrapy.http.response.text', 'w3lib.encoding', 'scrapy.http.response.xml', 'scrapy.utils.deprecate', 'scrapy.spiders.crawl', 'scrapy.utils.spider', 'scrapy.utils.misc', 'scrapy.item', 'scrapy.spiders.feed', 'scrapy.utils.iterators', 'csv', '_csv', 'scrapy.selector', 'scrapy.selector.unified', 'scrapy.selector.lxmlsel', 'scrapy.spiders.sitemap', 'scrapy.utils.sitemap', 'scrapy.utils.gz', 'scrapy.crawler', 'twisted.internet.default', 'twisted.internet.selectreactor', 'twisted.internet.posixbase', 'twisted.internet.udp', 'twisted.internet.tcp', 'twisted.internet._newtls', 'twisted.protocols.tls', 'OpenSSL', 'OpenSSL.crypto', 'cryptography', 'cryptography.__about__', 'cryptography.x509', 'cryptography.x509.certificate_transparency', 'cryptography.x509.base', 'cryptography.utils', 'cryptography.hazmat', 'cryptography.hazmat.primitives', 'cryptography.hazmat.primitives.asymmetric', 'cryptography.hazmat.primitives.asymmetric.dsa', 'cryptography.hazmat.primitives.asymmetric.ec', 'cryptography.hazmat.primitives.asymmetric.rsa', 'cryptography.exceptions', 'cryptography.hazmat.backends', 'cryptography.hazmat.backends.interfaces', 'cryptography.x509.extensions', 'asn1crypto', 'asn1crypto.version', 'asn1crypto.keys', 'asn1crypto._elliptic_curve', 'asn1crypto._int', 'asn1crypto.util', 'asn1crypto._errors', 'asn1crypto._iri', 'asn1crypto._types', 'asn1crypto._ordereddict', 'asn1crypto._inet', 'asn1crypto._ffi', 'asn1crypto._perf', 'asn1crypto.algos', 'asn1crypto.core', 'asn1crypto._teletex_codec', 'asn1crypto.parser', 'cryptography.hazmat.primitives.constant_time', 'cryptography.hazmat.bindings', '_cffi_backend', '_constant_time.lib', '_constant_time', 'cryptography.hazmat.bindings._constant_time', 'cryptography.hazmat.primitives.serialization', 'cryptography.x509.general_name', 'idna', 'idna.package_data', 'idna.core', 'idna.idnadata', 'idna.intranges', 'cryptography.x509.name', 'cryptography.x509.oid', 'cryptography.hazmat.primitives.hashes', 'OpenSSL._util', 'cryptography.hazmat.bindings.openssl', 'cryptography.hazmat.bindings.openssl.binding', '_openssl.lib', '_openssl', 'cryptography.hazmat.bindings._openssl', 'cryptography.hazmat.bindings.openssl._conditional', 'OpenSSL.SSL', 'OpenSSL.version', 'twisted.internet._sslverify', 'service_identity', 'service_identity.cryptography', 'pyasn1', 'pyasn1.codec', 'pyasn1.codec.der', 'pyasn1.codec.der.decoder', 'pyasn1.codec.cer', 'pyasn1.codec.cer.decoder', 'pyasn1.error', 'pyasn1.codec.ber', 'pyasn1.codec.ber.decoder', 'pyasn1.debug', 'pyasn1.compat', 'pyasn1.compat.octets', 'pyasn1.codec.ber.eoo', 'pyasn1.type', 'pyasn1.type.base', 'pyasn1.compat.calling', 'pyasn1.type.constraint', 'pyasn1.type.error', 'pyasn1.type.tag', 'pyasn1.type.tagmap', 'pyasn1.compat.integer', 'pyasn1.type.char', 'pyasn1.type.univ', 'pyasn1.compat.binary', 'pyasn1.type.namedtype', 'pyasn1.type.namedval', 'pyasn1.type.useful', 'pyasn1.compat.dateandtime', 'pyasn1.compat.string', 'service_identity.exceptions', 'service_identity._common', 'service_identity._compat', 'service_identity.pyopenssl', 'pyasn1_modules', 'pyasn1_modules.rfc2459', 'pyasn1.type.opentype', 'win32process', 'twisted.internet.win32eventreactor', 'win32file', 'win32event', 'win32gui', 'twisted.internet.reactor', 'zope.interface.verify', 'scrapy.core', 'scrapy.core.engine', 'scrapy.core.scraper', 'scrapy.utils.defer', 'scrapy.utils.log', 'logging.config', 'socketserver', 'scrapy.settings', 'scrapy.settings.default_settings', 'scrapy.utils.versions', 'scrapy.core.spidermw', 'scrapy.middleware', 'scrapy.utils.conf', 'configparser', 'six.moves.configparser', 'scrapy.utils.request', 'scrapy.utils.httpobj', 'scrapy.utils.reactor', 'scrapy.resolver', 'scrapy.interfaces', 'scrapy.extension', 'scrapy.signalmanager', 'pydispatch', 'pydispatch.dispatcher', 'pydispatch.saferef', 'pydispatch.robustapply', 'pydispatch.errors', 'scrapy.utils.signal', 'scrapy.utils.ossignal', 'scrapy.utils.project', 'DogHero', 'DogHero.spiders', 'DogHero.spiders.imovelweb', 'scrapy.loader', 'scrapy.loader.common', 'scrapy.loader.processors', 'DogHero.items', 'scrapy.contrib', 'scrapy.contrib.loader', 'DogHero.settings', 'scrapy.spiderloader', 'scrapy.statscollectors', 'scrapy.logformatter', 'scrapy.extensions', 'scrapy.extensions.corestats', 'scrapy.extensions.telnet', 'twisted.conch', 'twisted.conch.manhole', 'twisted.conch.recvline', 'twisted.conch.insults', 'twisted.conch.insults.insults', 'twisted.conch.insults.helper', 'twisted.python._textattributes', 'twisted.python.htmlizer', 'twisted.conch.telnet', 'scrapy.utils.engine', 'scrapy.extensions.memusage', 'scrapy.mail', 'email.mime', 'email.mime.multipart', 'email.mime.base', 'email.policy', 'email.headerregistry', 'email._header_value_parser', 'email.contentmanager', 'six.moves.email_mime_multipart', 'email.mime.text', 'email.mime.nonmultipart', 'six.moves.email_mime_text', 'six.moves.email_mime_base', 'twisted.internet.ssl', 'scrapy.extensions.memdebug', 'scrapy.extensions.closespider', 'scrapy.extensions.feedexport', 'ftplib', 'scrapy.utils.ftp', 'scrapy.utils.boto', 'scrapy.exporters', 'xml.sax', 'xml.sax.xmlreader', 'xml.sax.handler', 'xml.sax._exceptions', 'xml.sax.saxutils', 'scrapy.utils.serialize', 'scrapy.extensions.logstats', 'scrapy.extensions.spiderstate', 'scrapy.utils.job', 'scrapy.extensions.throttle', 'scrapy.core.scheduler', 'scrapy.utils.reqser', 'scrapy.core.downloader', 'scrapy.core.downloader.middleware', 'scrapy.core.downloader.handlers', 'scrapy.downloadermiddlewares', 'scrapy.downloadermiddlewares.robotstxt', 'scrapy.downloadermiddlewares.httpauth', 'scrapy.downloadermiddlewares.downloadtimeout', 'scrapy.downloadermiddlewares.defaultheaders', 'scrapy.downloadermiddlewares.useragent', 'scrapy.downloadermiddlewares.retry', 'twisted.web.client', 'twisted.internet.endpoints', 'twisted.internet.stdio', 'twisted.internet._win32stdio', 'twisted.internet._pollingfile', 'win32pipe', 'twisted.plugin', 'twisted.python.modules', 'twisted.python.zippath', 'zipfile', 'twisted.python.systemd', 'twisted.web.error', 'twisted.web._newclient', 'scrapy.core.downloader.handlers.http11', 'scrapy.responsetypes', 'scrapy.core.downloader.webclient', 'scrapy.core.downloader.tls', 'scrapy.downloadermiddlewares.ajaxcrawl', 'scrapy.downloadermiddlewares.redirect', 'scrapy.downloadermiddlewares.httpcompression', 'scrapy.downloadermiddlewares.cookies', 'scrapy.http.cookies', 'six.moves.http_cookiejar', 'scrapy.downloadermiddlewares.httpproxy', 'scrapy.downloadermiddlewares.stats', 'scrapy.downloadermiddlewares.httpcache', 'scrapy.spidermiddlewares', 'scrapy.spidermiddlewares.httperror', 'scrapy.spidermiddlewares.offsite', 'scrapy.spidermiddlewares.referer', 'scrapy.spidermiddlewares.urllength', 'scrapy.spidermiddlewares.depth', 'scrapy.pipelines', 'scrapy.dupefilters', 'queuelib', 'queuelib.queue', 'queuelib.pqueue', 'queuelib.rrqueue', 'scrapy.squeues', 'twisted.python.threadpool', 'twisted._threads', 'twisted._threads._threadworker', 'twisted._threads._ithreads', 'twisted._threads._convenience', 'twisted._threads._team', 'twisted._threads._memory', 'twisted._threads._pool', 'scrapy.core.downloader.handlers.http', 'scrapy.core.downloader.handlers.http10', 'scrapy.core.downloader.contextfactory', 'encodings.charmap', 'urllib.robotparser', 'pandas', 'numpy', 'numpy._globals', 'numpy.__config__', 'numpy.version', 'numpy._import_tools', 'numpy.add_newdocs', 'numpy.lib', 'numpy.lib.info', 'numpy.lib.type_check', 'numpy.core', 'numpy.core.info', 'numpy.core.multiarray', 'numpy.core.umath', 'numpy.core._internal', 'numpy.compat', 'numpy.compat._inspect', 'numpy.compat.py3k', 'numpy.core.numerictypes', 'numpy.core.numeric', 'numpy.core.fromnumeric', 'numpy.core._methods', 'numpy.core.arrayprint', 'numpy.core.defchararray', 'numpy.core.records', 'numpy.core.memmap', 'numpy.core.function_base', 'numpy.core.machar', 'numpy.core.getlimits', 'numpy.core.shape_base', 'numpy.core.einsumfunc', 'numpy.testing', 'unittest', 'unittest.result', 'unittest.util', 'unittest.case', 'unittest.suite', 'unittest.loader', 'unittest.main', 'unittest.runner', 'unittest.signals', 'numpy.testing._private', 'numpy.testing._private.utils', 'numpy.lib.utils', 'numpy.testing._private.decorators', 'numpy.testing._private.nosetester', 'numpy.testing._private.pytesttester', 'numpy.lib.ufunclike', 'numpy.lib.index_tricks', 'numpy.lib.function_base', 'numpy.lib.twodim_base', 'numpy.lib.histograms', 'numpy.matrixlib', 'numpy.matrixlib.defmatrix', 'numpy.linalg', 'numpy.linalg.info', 'numpy.linalg.linalg', 'numpy.linalg.lapack_lite', 'numpy.linalg._umath_linalg', 'numpy.lib.stride_tricks', 'numpy.lib.mixins', 'numpy.lib.nanfunctions', 'numpy.lib.shape_base', 'numpy.lib.scimath', 'numpy.lib.polynomial', 'numpy.lib.arraysetops', 'numpy.lib.npyio', 'numpy.lib.format', 'numpy.lib._datasource', 'numpy.lib._iotools', 'numpy.lib.financial', 'numpy.lib.arrayterator', 'numpy.lib.arraypad', 'numpy.lib._version', 'numpy.core._multiarray_tests', 'numpy._distributor_init', 'numpy.fft', 'numpy.fft.info', 'numpy.fft.fftpack', 'numpy.fft.fftpack_lite', 'numpy.fft.helper', 'numpy.polynomial', 'numpy.polynomial.polynomial', 'numpy.polynomial.polyutils', 'numpy.polynomial._polybase', 'numpy.polynomial.chebyshev', 'numpy.polynomial.legendre', 'numpy.polynomial.hermite', 'numpy.polynomial.hermite_e', 'numpy.polynomial.laguerre', 'numpy.random', 'numpy.random.info', 'mtrand', 'numpy.random.mtrand', 'numpy.ctypeslib', 'numpy.ma', 'numpy.ma.core', 'numpy.ma.extras', 'pytz', 'pytz.exceptions', 'pytz.lazy', 'pytz.tzinfo', 'pytz.tzfile', 'pandas.compat', 'distutils.version', 'pandas.compat.chainmap', 'pandas.compat.numpy', 'pandas._libs', 'pandas._libs.tslib', 'pandas._libs.tslibs', 'pandas._libs.tslibs.conversion', 'pandas._libs.tslibs.np_datetime', '_cython_0_28_5', 'pandas._libs.tslibs.nattype', 'pandas._libs.tslibs.timedeltas', 'pandas._libs.tslibs.timezones', 'pandas._libs.tslibs.parsing', 'pandas._libs.tslibs.ccalendar', 'pandas._libs.tslibs.strptime', 'pandas._libs.tslibs.timestamps', 'pandas._libs.tslibs.fields', 'pandas._libs.hashtable', 'pandas._libs.missing', 'pandas._libs.lib', 'pandas.core', 'pandas.core.config_init', 'pandas.core.config', 'pandas.io', 'pandas.io.formats', 'pandas.io.formats.printing', 'pandas.core.dtypes', 'pandas.core.dtypes.inference', 'pandas.io.formats.console', 'pandas.io.formats.terminal', 'pandas.core.api', 'pandas.core.algorithms', 'pandas.core.dtypes.cast', 'pandas.core.dtypes.common', 'pandas._libs.algos', 'pandas.core.dtypes.dtypes', 'pandas.core.dtypes.generic', 'pandas.core.dtypes.base', 'pandas.errors', 'pandas.core.dtypes.missing', 'pandas.core.common', 'pandas.util', 'pandas.util._decorators', 'pandas._libs.properties', 'pandas.core.util', 'pandas.core.util.hashing', 'pandas._libs.hashing', 'pandas.core.arrays', 'pandas.core.arrays.base', 'pandas.compat.numpy.function', 'pandas.util._validators', 'pandas.core.arrays.categorical', 'pandas.core.accessor', 'pandas.core.base', 'pandas.core.nanops', 'bottleneck', 'bottleneck.reduce', 'bottleneck.nonreduce', 'bottleneck.nonreduce_axis', 'bottleneck.move', 'bottleneck.slow', 'bottleneck.slow.reduce', 'bottleneck.slow.nonreduce', 'bottleneck.slow.nonreduce_axis', 'bottleneck.slow.move', 'bottleneck.version', 'bottleneck.benchmark', 'bottleneck.benchmark.bench', 'bottleneck.benchmark.autotimeit', 'bottleneck.benchmark.bench_detailed', 'bottleneck.tests', 'bottleneck.tests.util', 'pandas.core.missing', 'pandas.core.groupby', 'pandas.core.groupby.groupby', 'pandas.core.index', 'pandas.core.indexes', 'pandas.core.indexes.api', 'pandas.core.indexes.base', 'pandas._libs.index', 'pandas._libs.tslibs.period', 'pandas._libs.tslibs.frequencies', 'pandas._libs.tslibs.resolution', 'pandas.tseries', 'pandas.tseries.offsets', 'pandas.core.tools', 'pandas.core.tools.datetimes', 'dateutil.easter', 'pandas._libs.tslibs.offsets', 'pandas.tseries.frequencies', 'pandas._libs.join', 'pandas.core.ops', 'pandas._libs.ops', 'pandas.core.indexes.frozen', 'pandas.core.dtypes.concat', 'pandas.core.sorting', 'pandas.core.strings', 'pandas.core.indexes.category', 'pandas.core.indexes.multi', 'pandas.core.indexes.interval', 'pandas._libs.interval', 'pandas.core.indexes.datetimes', 'pandas.core.indexes.numeric', 'pandas.core.indexes.datetimelike', 'pandas.core.tools.timedeltas', 'pandas.core.indexes.timedeltas', 'pandas.core.indexes.range', 'pandas.core.indexes.period', 'pandas.core.frame', 'pandas.core.generic', 'pandas.core.indexing', 'pandas._libs.indexing', 'pandas.core.internals', 'pandas._libs.internals', 'pandas.core.sparse', 'pandas.core.sparse.array', 'pandas._libs.sparse', 'pandas.io.formats.format', 'pandas.io.common', 'mmap', 'pandas.core.series', 'pandas.core.indexes.accessors', 'pandas.plotting', 'pandas.plotting._misc', 'pandas.plotting._style', 'pandas.plotting._compat', 'pandas.plotting._tools', 'pandas.plotting._core', 'pandas.plotting._converter', 'matplotlib', 'distutils.sysconfig', 'matplotlib.cbook', 'matplotlib.cbook.deprecation', 'matplotlib.cbook._backports', 'matplotlib.compat', 'matplotlib.compat.subprocess', 'matplotlib.rcsetup', 'matplotlib.testing', 'matplotlib.fontconfig_pattern', 'pyparsing', 'matplotlib.colors', 'matplotlib._color_data', 'cycler', 'matplotlib._version']\n"
     ]
    }
   ],
   "source": [
    "import pandas as pd\n",
    "import numpy as np"
   ]
  },
  {
   "cell_type": "code",
   "execution_count": 5,
   "metadata": {},
   "outputs": [],
   "source": [
    "dataset = pd.read_csv ('imovelweb.csv')"
   ]
  },
  {
   "cell_type": "code",
   "execution_count": 6,
   "metadata": {},
   "outputs": [
    {
     "data": {
      "text/html": [
       "<div>\n",
       "<style scoped>\n",
       "    .dataframe tbody tr th:only-of-type {\n",
       "        vertical-align: middle;\n",
       "    }\n",
       "\n",
       "    .dataframe tbody tr th {\n",
       "        vertical-align: top;\n",
       "    }\n",
       "\n",
       "    .dataframe thead th {\n",
       "        text-align: right;\n",
       "    }\n",
       "</style>\n",
       "<table border=\"1\" class=\"dataframe\">\n",
       "  <thead>\n",
       "    <tr style=\"text-align: right;\">\n",
       "      <th></th>\n",
       "      <th>features</th>\n",
       "      <th>location_city</th>\n",
       "      <th>location_street</th>\n",
       "      <th>price</th>\n",
       "      <th>price_condo</th>\n",
       "      <th>title</th>\n",
       "    </tr>\n",
       "  </thead>\n",
       "  <tbody>\n",
       "    <tr>\n",
       "      <th>0</th>\n",
       "      <td>48 m² Útil 2 Quartos 1 Banheiro</td>\n",
       "      <td>Interlagos, São Paulo</td>\n",
       "      <td>Nossa Senhora Do Sabara 4595</td>\n",
       "      <td>R$ 330.000</td>\n",
       "      <td>+ R$ 440 de condomínio</td>\n",
       "      <td>Apartamento à venda - em Interlagos</td>\n",
       "    </tr>\n",
       "    <tr>\n",
       "      <th>1</th>\n",
       "      <td>85 m² Útil 3 Quartos 2 Banheiros</td>\n",
       "      <td>Butantã, São Paulo</td>\n",
       "      <td>AV Engenheiro Heitor Antônio Eiras Garcia</td>\n",
       "      <td>R$ 350.000</td>\n",
       "      <td>+ R$ 498 de condomínio</td>\n",
       "      <td>APARTAMENTO EXCELENTE PLANTA RECÉM REFORMADO N...</td>\n",
       "    </tr>\n",
       "    <tr>\n",
       "      <th>2</th>\n",
       "      <td>162 m² Útil 4 Quartos 4 Banheiros</td>\n",
       "      <td>Centro, Balneário Camboriú</td>\n",
       "      <td>Rua 3250 100</td>\n",
       "      <td>R$ 1.850.000</td>\n",
       "      <td>+ R$ 800 de condomínio</td>\n",
       "      <td>Apartamento 04 Suítes no Ville del Acqua</td>\n",
       "    </tr>\n",
       "    <tr>\n",
       "      <th>3</th>\n",
       "      <td>104 unidades 1 Quartos 73 m²</td>\n",
       "      <td>Pinheiros, São Paulo</td>\n",
       "      <td>Rua Gilberto Sabino, 65</td>\n",
       "      <td>R$ 817.000</td>\n",
       "      <td>NaN</td>\n",
       "      <td>Retrato Pinheiros</td>\n",
       "    </tr>\n",
       "    <tr>\n",
       "      <th>4</th>\n",
       "      <td>209 m² Útil 4 Quartos 3 Banheiros</td>\n",
       "      <td>Barra da Tijuca, Rio de Janeiro</td>\n",
       "      <td>Avenida do Pepê</td>\n",
       "      <td>R$ 2.150.000</td>\n",
       "      <td>+ R$ 2.200 de condomínio</td>\n",
       "      <td>4 Quartos Oportunidade!!! - Av. do PEPE - Jard...</td>\n",
       "    </tr>\n",
       "  </tbody>\n",
       "</table>\n",
       "</div>"
      ],
      "text/plain": [
       "                            features                    location_city  \\\n",
       "0    48 m² Útil 2 Quartos 1 Banheiro            Interlagos, São Paulo   \n",
       "1   85 m² Útil 3 Quartos 2 Banheiros               Butantã, São Paulo   \n",
       "2  162 m² Útil 4 Quartos 4 Banheiros       Centro, Balneário Camboriú   \n",
       "3       104 unidades 1 Quartos 73 m²             Pinheiros, São Paulo   \n",
       "4  209 m² Útil 4 Quartos 3 Banheiros  Barra da Tijuca, Rio de Janeiro   \n",
       "\n",
       "                             location_street         price  \\\n",
       "0               Nossa Senhora Do Sabara 4595    R$ 330.000   \n",
       "1  AV Engenheiro Heitor Antônio Eiras Garcia    R$ 350.000   \n",
       "2                               Rua 3250 100  R$ 1.850.000   \n",
       "3                    Rua Gilberto Sabino, 65    R$ 817.000   \n",
       "4                            Avenida do Pepê  R$ 2.150.000   \n",
       "\n",
       "                price_condo                                              title  \n",
       "0    + R$ 440 de condomínio                Apartamento à venda - em Interlagos  \n",
       "1    + R$ 498 de condomínio  APARTAMENTO EXCELENTE PLANTA RECÉM REFORMADO N...  \n",
       "2    + R$ 800 de condomínio           Apartamento 04 Suítes no Ville del Acqua  \n",
       "3                       NaN                                  Retrato Pinheiros  \n",
       "4  + R$ 2.200 de condomínio  4 Quartos Oportunidade!!! - Av. do PEPE - Jard...  "
      ]
     },
     "execution_count": 6,
     "metadata": {},
     "output_type": "execute_result"
    }
   ],
   "source": [
    "dataset.head()"
   ]
  }
 ],
 "metadata": {
  "kernelspec": {
   "display_name": "Python 3",
   "language": "python",
   "name": "python3"
  },
  "language_info": {
   "codemirror_mode": {
    "name": "ipython",
    "version": 3
   },
   "file_extension": ".py",
   "mimetype": "text/x-python",
   "name": "python",
   "nbconvert_exporter": "python",
   "pygments_lexer": "ipython3",
   "version": "3.6.5"
  }
 },
 "nbformat": 4,
 "nbformat_minor": 2
}
